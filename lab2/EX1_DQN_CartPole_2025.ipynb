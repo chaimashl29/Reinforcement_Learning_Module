{
  "nbformat": 4,
  "nbformat_minor": 0,
  "metadata": {
    "colab": {
      "provenance": [],
      "gpuType": "T4"
    },
    "kernelspec": {
      "name": "python3",
      "display_name": "Python 3"
    },
    "language_info": {
      "name": "python"
    },
    "accelerator": "GPU"
  },
  "cells": [
    {
      "cell_type": "code",
      "source": [
        "!pip install gymnasium"
      ],
      "metadata": {
        "colab": {
          "base_uri": "https://localhost:8080/"
        },
        "id": "mYu0OlZ6sK7d",
        "outputId": "63715027-b9e1-4431-b7a4-fb2270d70f62",
        "is_executing": true
      },
      "execution_count": 2,
      "outputs": [
        {
          "output_type": "stream",
          "name": "stdout",
          "text": [
            "Collecting gymnasium\n",
            "  Downloading gymnasium-1.0.0-py3-none-any.whl.metadata (9.5 kB)\n",
            "Requirement already satisfied: numpy>=1.21.0 in /usr/local/lib/python3.10/dist-packages (from gymnasium) (1.26.4)\n",
            "Requirement already satisfied: cloudpickle>=1.2.0 in /usr/local/lib/python3.10/dist-packages (from gymnasium) (3.1.0)\n",
            "Requirement already satisfied: typing-extensions>=4.3.0 in /usr/local/lib/python3.10/dist-packages (from gymnasium) (4.12.2)\n",
            "Collecting farama-notifications>=0.0.1 (from gymnasium)\n",
            "  Downloading Farama_Notifications-0.0.4-py3-none-any.whl.metadata (558 bytes)\n",
            "Downloading gymnasium-1.0.0-py3-none-any.whl (958 kB)\n",
            "\u001b[?25l   \u001b[90m━━━━━━━━━━━━━━━━━━━━━━━━━━━━━━━━━━━━━━━━\u001b[0m \u001b[32m0.0/958.1 kB\u001b[0m \u001b[31m?\u001b[0m eta \u001b[36m-:--:--\u001b[0m\r\u001b[2K   \u001b[90m━━━━━━━━━━━━━━━━━━━━━━━━━━━━━━━━━━━━━━━━\u001b[0m \u001b[32m958.1/958.1 kB\u001b[0m \u001b[31m29.6 MB/s\u001b[0m eta \u001b[36m0:00:00\u001b[0m\n",
            "\u001b[?25hDownloading Farama_Notifications-0.0.4-py3-none-any.whl (2.5 kB)\n",
            "Installing collected packages: farama-notifications, gymnasium\n",
            "Successfully installed farama-notifications-0.0.4 gymnasium-1.0.0\n"
          ]
        }
      ]
    },
    {
      "cell_type": "code",
      "source": [
        "import gymnasium as gym\n",
        "import numpy as np\n",
        "import pandas as pd\n",
        "import matplotlib.pyplot as plt\n",
        "from collections import deque\n",
        "import random\n",
        "from tqdm import tqdm\n",
        "\n",
        "import torch\n",
        "from torch import nn\n",
        "import torch.nn.functional as F\n",
        "import torch.optim as optim\n"
      ],
      "metadata": {
        "id": "VpsHzyWmseVk",
        "is_executing": true
      },
      "execution_count": 3,
      "outputs": []
    },
    {
      "cell_type": "code",
      "source": [
        "device = torch.device(\"cuda:0\" if torch.cuda.is_available() else \"cpu\")"
      ],
      "metadata": {
        "id": "cQJgkAMMsEoK"
      },
      "execution_count": 4,
      "outputs": []
    },
    {
      "cell_type": "code",
      "source": [
        "class QNetwork(nn.Module):\n",
        "\n",
        "    def __init__(self, state_shape, h1_nodes, action_space_size, seed):\n",
        "        \"\"\"\n",
        "        state_shape (int): Dimension of each state\n",
        "        h1_nodes (int): Number of nodes in the first hidden layer\n",
        "        action_space_size (int): Dimension of each action\n",
        "        seed (int): Random seed\n",
        "        \"\"\"\n",
        "        super(QNetwork, self).__init__()\n",
        "        self.seed = torch.manual_seed(seed)\n",
        "\n",
        "        # Define the fully connected layers\n",
        "        self.fc1 = nn.Linear(state_shape, h1_nodes)  # First layer\n",
        "        self.fc2 = nn.Linear(h1_nodes, h1_nodes)     # Second layer\n",
        "        self.fc3 = nn.Linear(h1_nodes, action_space_size)  # Output layer\n",
        "\n",
        "    def forward(self, state):\n",
        "        # Define the forward pass with ReLU activations\n",
        "        x = torch.relu(self.fc1(state))  # Apply ReLU activation after the first layer\n",
        "        x = torch.relu(self.fc2(x))      # Apply ReLU activation after the second layer\n",
        "        x = self.fc3(x)                  # Output layer (no activation needed here)\n",
        "        return x\n"
      ],
      "metadata": {
        "id": "jQk7LBu5s3yo"
      },
      "execution_count": 5,
      "outputs": []
    },
    {
      "cell_type": "code",
      "source": [
        "\n",
        "\n",
        "class ReplayMemory():\n",
        "    def __init__(self, maxlen, batch_size):\n",
        "        self.memory = deque([], maxlen=maxlen)  # The deque will store experiences up to a maximum length\n",
        "        self.batch_size = batch_size\n",
        "\n",
        "    def append(self, experience):\n",
        "        \"\"\"Add an experience to memory\"\"\"\n",
        "        self.memory.append(experience)\n",
        "\n",
        "    def sample(self):\n",
        "        \"\"\"Randomly sample a batch of experiences from memory\"\"\"\n",
        "        # Check if enough experiences are in memory to sample a batch\n",
        "        if len(self.memory) < self.batch_size:\n",
        "            return None  # Not enough experiences to sample\n",
        "        return random.sample(self.memory, self.batch_size)  # Randomly sample a batch\n",
        "\n",
        "    def __len__(self):\n",
        "        \"\"\"Return the current size of memory\"\"\"\n",
        "        return len(self.memory)\n"
      ],
      "metadata": {
        "id": "W2a1w61qtpWV"
      },
      "execution_count": 6,
      "outputs": []
    },
    {
      "cell_type": "code",
      "source": [
        "class DQAgent():\n",
        "    \"\"\"Interacts with and learns from the environment.\"\"\"\n",
        "\n",
        "    def __init__(self, state_shape, action_space_size, seed, h1_nodes=64, learning_rate=5e-4,\n",
        "                 replay_memory_size=int(1e5), batch_size=64, UPDATE_EVERY=20, LEARN_EVERY=4, GAMMA=0.99, device='cpu'):\n",
        "        \"\"\"Initialize an Agent object.\"\"\"\n",
        "\n",
        "        self.device = device  # Device (CPU or CUDA)\n",
        "        self.state_shape = state_shape\n",
        "        self.action_space_size = action_space_size\n",
        "        self.seed = random.seed(seed)\n",
        "        self.GAMMA = GAMMA\n",
        "        self.UPDATE_EVERY = UPDATE_EVERY\n",
        "        self.LEARN_EVERY = LEARN_EVERY\n",
        "        self.h1_nodes = h1_nodes\n",
        "        self.learning_rate = learning_rate\n",
        "        self.batch_size = batch_size\n",
        "        self.replay_memory_size = replay_memory_size\n",
        "\n",
        "        # Q-Network\n",
        "        self.local_dqn = QNetwork(state_shape, h1_nodes, action_space_size, seed).to(self.device)  # Local DQN\n",
        "        self.target_dqn = QNetwork(state_shape, h1_nodes, action_space_size, seed).to(self.device)  # Target DQN\n",
        "        self.target_dqn.load_state_dict(self.local_dqn.state_dict())  # Initialize target network with same weights as local\n",
        "        self.target_dqn.eval()  # Set target network to evaluation mode\n",
        "\n",
        "        self.optimizer = optim.Adam(self.local_dqn.parameters(), lr=self.learning_rate)\n",
        "\n",
        "        # Replay memory\n",
        "        self.memory = ReplayMemory(self.replay_memory_size, self.batch_size)\n",
        "\n",
        "        # Initialize time steps\n",
        "        self.l_step = 0\n",
        "        self.t_step = 0\n",
        "\n",
        "    def state_to_dqn_input(self, state):\n",
        "        \"\"\"Convert state to tensor input for the DQN.\"\"\"\n",
        "        return torch.from_numpy(state).float().unsqueeze(0).to(self.device)\n",
        "\n",
        "    def act(self, state, eps=0.):\n",
        "        \"\"\"Returns actions for given state using epsilon-greedy policy.\"\"\"\n",
        "        state = self.state_to_dqn_input(state)\n",
        "        if random.random() > eps:\n",
        "            # Select the action with the highest Q-value from the local network\n",
        "            with torch.no_grad():\n",
        "                action = self.local_dqn(state).argmax(dim=1).item()\n",
        "        else:\n",
        "            # Select a random action\n",
        "            action = random.choice(range(self.action_space_size))\n",
        "        return action\n",
        "\n",
        "    def step(self, state, action, reward, next_state, done):\n",
        "        \"\"\"Stores experience in memory and learns from it.\"\"\"\n",
        "        # Save experience in replay memory\n",
        "        self.memory.append((state, action, reward, next_state, done))\n",
        "\n",
        "        # If enough samples are available in memory, get random subset and learn\n",
        "        self.l_step = (self.l_step + 1) % self.LEARN_EVERY\n",
        "        if self.l_step == 0 and len(self.memory) > self.batch_size:\n",
        "            experiences = self.memory.sample()  # Ensure replay memory sampling is done correctly\n",
        "            self.learn(experiences)\n",
        "\n",
        "        # Copy local network to target network every UPDATE_EVERY time steps\n",
        "        self.t_step = (self.t_step + 1) % self.UPDATE_EVERY\n",
        "        if self.t_step == 0:\n",
        "            self.target_dqn.load_state_dict(self.local_dqn.state_dict())\n",
        "\n",
        "    def learn(self, experiences):\n",
        "        \"\"\"Update the Q-network by minimizing the loss.\"\"\"\n",
        "        q_target_list = []\n",
        "        q_expected_list = []\n",
        "\n",
        "        # Convert each experience to tensors and calculate Q-values\n",
        "        for state, action, reward, next_state, done in experiences:\n",
        "            state = torch.from_numpy(state).float().unsqueeze(0).to(self.device)\n",
        "            next_state = torch.from_numpy(next_state).float().unsqueeze(0).to(self.device)\n",
        "            action = torch.tensor([action]).long().to(self.device)\n",
        "            reward = torch.tensor([reward]).float().to(self.device)\n",
        "\n",
        "            # Compute the target Q-value\n",
        "            if done:\n",
        "                q_target = reward\n",
        "            else:\n",
        "                with torch.no_grad():\n",
        "                    q_target = reward + self.GAMMA * self.target_dqn(next_state).max(1)[0].detach()\n",
        "\n",
        "            # Compute the expected Q-value from the local network\n",
        "            q_local = self.local_dqn(state).gather(1, action.unsqueeze(1)).squeeze(1)\n",
        "\n",
        "            q_target_list.append(q_target)\n",
        "            q_expected_list.append(q_local)\n",
        "\n",
        "        # Calculate the loss (Mean Squared Error between target and expected Q-values)\n",
        "        q_target_tensor = torch.cat(q_target_list).to(self.device)\n",
        "        q_expected_tensor = torch.cat(q_expected_list).to(self.device)\n",
        "        loss = F.mse_loss(q_expected_tensor, q_target_tensor)\n",
        "\n",
        "        # Optimize the model\n",
        "        self.optimizer.zero_grad()\n",
        "        loss.backward()\n",
        "        self.optimizer.step()\n"
      ],
      "metadata": {
        "id": "YbRg16A-uGjZ"
      },
      "execution_count": 13,
      "outputs": []
    },
    {
      "cell_type": "code",
      "outputs": [],
      "source": [
        "import numpy as np\n",
        "import torch\n",
        "from tqdm import tqdm\n",
        "\n",
        "def dqn_train(agent, n_episodes=300, max_t=1000, eps_start=1.0, eps_end=0.01, eps_decay=0.995):\n",
        "    \"\"\"Train a Deep Q-learning agent.\"\"\"\n",
        "\n",
        "    scores = []                        # list containing scores from each episode\n",
        "    scores_window = deque(maxlen=100)  # last 100 scores\n",
        "    eps = eps_start                    # initialize epsilon\n",
        "\n",
        "    for i_episode in tqdm(range(1, n_episodes + 1)):\n",
        "        state = env.reset()[0]          # Get initial state from environment\n",
        "\n",
        "        score = 0\n",
        "        for t in range(max_t):\n",
        "            # Select an action using epsilon-greedy policy\n",
        "            action = agent.act(state, eps)\n",
        "\n",
        "            # Apply the selected action\n",
        "            next_state, reward, done, _, _ = env.step(action)\n",
        "\n",
        "            # Store the current experience in memory\n",
        "            agent.step(state, action, reward, next_state, done)\n",
        "\n",
        "            state = next_state\n",
        "            score += reward\n",
        "            if done:\n",
        "                break\n",
        "\n",
        "        # Save the most recent score\n",
        "        scores_window.append(score)\n",
        "        scores.append(score)\n",
        "\n",
        "        # Decrease epsilon for exploration-exploitation trade-off\n",
        "        eps = max(eps_end, eps_decay * eps)\n",
        "\n",
        "        # Print the average score every 50 episodes\n",
        "        if i_episode % 50 == 0:\n",
        "            print(f'\\rEpisode {i_episode}\\tAverage Score: {np.mean(scores_window):.2f}')\n",
        "\n",
        "    # Save the model checkpoint after training\n",
        "    torch.save(agent.local_dqn.state_dict(), 'checkpoint.pth')\n",
        "\n",
        "    return scores\n"
      ],
      "metadata": {
        "id": "a1-CXd0RYEel"
      },
      "execution_count": 8
    },
    {
      "cell_type": "code",
      "source": [
        "env = gym.make('CartPole-v1')\n",
        "print(env.reset())\n",
        "\n",
        "print('State shape: ', env.observation_space.shape[0])\n",
        "print('Number of actions: ', env.action_space.n)"
      ],
      "metadata": {
        "colab": {
          "base_uri": "https://localhost:8080/"
        },
        "id": "dgqM0KQY8474",
        "outputId": "ac7db112-4432-4163-fc19-f09860776312"
      },
      "execution_count": 9,
      "outputs": [
        {
          "output_type": "stream",
          "name": "stdout",
          "text": [
            "(array([-0.02206585, -0.01774149, -0.01559993, -0.04856776], dtype=float32), {})\n",
            "State shape:  4\n",
            "Number of actions:  2\n"
          ]
        }
      ]
    },
    {
      "cell_type": "code",
      "source": [
        "agent = DQAgent(state_shape=env.observation_space.shape[0], action_space_size=env.action_space.n, seed=0)\n",
        "scores = dqn_train(agent)"
      ],
      "metadata": {
        "colab": {
          "base_uri": "https://localhost:8080/"
        },
        "id": "GQ53wv7a-fEU",
        "outputId": "a55e5001-631e-485e-ded4-db6f7b4f1cf8"
      },
      "execution_count": 14,
      "outputs": [
        {
          "output_type": "stream",
          "name": "stderr",
          "text": [
            " 17%|█▋        | 51/300 [00:09<00:38,  6.39it/s]"
          ]
        },
        {
          "output_type": "stream",
          "name": "stdout",
          "text": [
            "\rEpisode 50\tAverage Score: 23.02\n"
          ]
        },
        {
          "output_type": "stream",
          "name": "stderr",
          "text": [
            " 34%|███▎      | 101/300 [00:16<00:28,  6.99it/s]"
          ]
        },
        {
          "output_type": "stream",
          "name": "stdout",
          "text": [
            "\rEpisode 100\tAverage Score: 19.84\n"
          ]
        },
        {
          "output_type": "stream",
          "name": "stderr",
          "text": [
            " 50%|█████     | 150/300 [00:28<00:46,  3.25it/s]"
          ]
        },
        {
          "output_type": "stream",
          "name": "stdout",
          "text": [
            "\rEpisode 150\tAverage Score: 22.73\n"
          ]
        },
        {
          "output_type": "stream",
          "name": "stderr",
          "text": [
            " 67%|██████▋   | 200/300 [00:51<00:44,  2.25it/s]"
          ]
        },
        {
          "output_type": "stream",
          "name": "stdout",
          "text": [
            "\rEpisode 200\tAverage Score: 40.86\n"
          ]
        },
        {
          "output_type": "stream",
          "name": "stderr",
          "text": [
            " 83%|████████▎ | 250/300 [01:38<01:48,  2.18s/it]"
          ]
        },
        {
          "output_type": "stream",
          "name": "stdout",
          "text": [
            "\rEpisode 250\tAverage Score: 81.54\n"
          ]
        },
        {
          "output_type": "stream",
          "name": "stderr",
          "text": [
            "100%|██████████| 300/300 [03:45<00:00,  1.33it/s]"
          ]
        },
        {
          "output_type": "stream",
          "name": "stdout",
          "text": [
            "\rEpisode 300\tAverage Score: 200.04\n"
          ]
        },
        {
          "output_type": "stream",
          "name": "stderr",
          "text": [
            "\n"
          ]
        }
      ]
    },
    {
      "cell_type": "code",
      "source": [
        "scores = pd.Series(scores, name=\"scores\")\n",
        "scores.describe()\n",
        "fig, ax = plt.subplots(1, 1)\n",
        "_ = scores.plot(ax=ax, label=\"Scores\")\n",
        "_ = (scores.rolling(window=100)\n",
        "           .mean()\n",
        "           .rename(\"Rolling Average\")\n",
        "           .plot(ax=ax))\n",
        "ax.legend()\n",
        "_ = ax.set_xlabel(\"Episode Number\")\n",
        "_ = ax.set_ylabel(\"Score\")"
      ],
      "metadata": {
        "id": "u3kPJmXM4Ss4",
        "colab": {
          "base_uri": "https://localhost:8080/",
          "height": 449
        },
        "outputId": "69e65963-ba1f-4748-9335-1cfeed6b00b0"
      },
      "execution_count": 15,
      "outputs": [
        {
          "output_type": "display_data",
          "data": {
            "text/plain": [
              "<Figure size 640x480 with 1 Axes>"
            ],
            "image/png": "[encoded data removed]"
          },
          "metadata": {}
        }
      ]
    }
  ]
}